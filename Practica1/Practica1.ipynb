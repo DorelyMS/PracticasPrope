{
 "cells": [
  {
   "cell_type": "code",
   "execution_count": 1,
   "metadata": {},
   "outputs": [
    {
     "name": "stdout",
     "output_type": "stream",
     "text": [
      "1991\n",
      "28.5\n",
      "2019.5\n"
     ]
    }
   ],
   "source": [
    "#Propedétutico\n",
    "\n",
    "#Práctica1.1 Core Python\n",
    "\n",
    "#Variables\n",
    "\n",
    "var1=1991 #Declaramos la variable var1 de tipo entero\n",
    "print(var1)\n",
    "var2=28.5 #Declaramos la variable var1 de tipo flotante\n",
    "print(var2)\n",
    "var1=var2+var1\n",
    "print(var1)\n"
   ]
  },
  {
   "cell_type": "code",
   "execution_count": 2,
   "metadata": {},
   "outputs": [
    {
     "name": "stdout",
     "output_type": "stream",
     "text": [
      "Mi nombre es Dorely Morales Santiago\n",
      "Pero todos me llaman Dor\n",
      "['Dorely', 'Morales', 'Santiago']\n"
     ]
    },
    {
     "data": {
      "text/plain": [
       "'D'"
      ]
     },
     "execution_count": 2,
     "metadata": {},
     "output_type": "execute_result"
    }
   ],
   "source": [
    "#Strings\n",
    "\n",
    "string1=\"Dorely\"\n",
    "string2=\"Morales\"\n",
    "string3=\"Santiago\"\n",
    "\n",
    "print('Mi nombre es ' + string1 + ' ' + string2 + ' ' + string3) #Concatenación\n",
    "print('Pero todos me llaman '+ string1[0:3]) #Slicing\n",
    "nombre='Dorely Morales Santiago'\n",
    "print(nombre.split()) #Delimiter is white space\n",
    "nombre[0]\n"
   ]
  },
  {
   "cell_type": "code",
   "execution_count": 3,
   "metadata": {},
   "outputs": [
    {
     "name": "stdout",
     "output_type": "stream",
     "text": [
      "(3.14,)\n",
      "Mi estado de nacimiento es Veracruz\n",
      "91\n",
      "Pero yo nací en Martinez de la Torre, Veracruz\n"
     ]
    }
   ],
   "source": [
    "#Tuples\n",
    "\n",
    "tup1=(3.14,) #Este es un tuple con un single object\n",
    "print(tup1)\n",
    "tup2=('Martinez de la Torre','Veracruz',(11,3,91)) #este es otro tuple\n",
    "MunNac,EdoNac,FechaNac=tup2 #definimos cada objeto del tuple\n",
    "print('Mi estado de nacimiento es '+ EdoNac)\n",
    "AnioNac=FechaNac[2] #Guardo año de nacimiento\n",
    "print(AnioNac)\n",
    "LugNac=tup2[0]+', '+tup2[1]\n",
    "print('Pero yo nací en ' + LugNac)\n"
   ]
  },
  {
   "cell_type": "code",
   "execution_count": 4,
   "metadata": {},
   "outputs": [
    {
     "name": "stdout",
     "output_type": "stream",
     "text": [
      "[2, 3, 5, 11, 13]\n",
      "[2, 3, 5, 7, 11, 13]\n",
      "6\n",
      "[2, 3, 4, 5, 6]\n",
      "[[1, 2, 3], [4, 5, 6], [10, 8, 9]]\n",
      "[[1, 2, 3], [4, 5, 6], [7, 8, 9]]\n"
     ]
    }
   ],
   "source": [
    "#Lists\n",
    "\n",
    "list1=[2, 3, 5, 11] #lista de números primos\n",
    "list1.append(13) #Agregamos otro primo\n",
    "print(list1)\n",
    "\n",
    "list1.insert(3,7) #Agregamos el primo faltante en la serie\n",
    "print(list1)\n",
    "\n",
    "print(len(list1)) #Imprime el length de la lista\n",
    "\n",
    "list2=[2, 3, 5, 11]\n",
    "list2[2:4]=[4,5,6] #Modifica una lista \n",
    "print(list2)\n",
    "\n",
    "matrix1=[[1,2,3],\\\n",
    "         [4,5,6],\\\n",
    "         [10,8,9]]\n",
    "\n",
    "print(matrix1)\n",
    "\n",
    "\n",
    "matrix1[2][0]=7\n",
    "\n",
    "print(matrix1)\n"
   ]
  },
  {
   "cell_type": "code",
   "execution_count": 5,
   "metadata": {},
   "outputs": [
    {
     "name": "stdout",
     "output_type": "stream",
     "text": [
      "2.4673969320249998\n",
      "3\n",
      "[[1, 2, 3], [4, 5, 6], [7, 8, 9], [1, 2, 3], [4, 5, 6], [7, 8, 9], [1, 2, 3], [4, 5, 6], [7, 8, 9]]\n"
     ]
    }
   ],
   "source": [
    "#Arithmetic Operators\n",
    "\n",
    "calc1=((3.14159+3-3)*2/4)**2 #Operaciones Aritméticas\n",
    "print(calc1)\n",
    "calc2=10%7\n",
    "print(calc2) #Calculamos el residuo de 10 sobre 7\n",
    "\n",
    "print(3*matrix1)\n",
    "\n"
   ]
  },
  {
   "cell_type": "code",
   "execution_count": 6,
   "metadata": {},
   "outputs": [
    {
     "name": "stdout",
     "output_type": "stream",
     "text": [
      "False\n",
      "True\n",
      "True\n"
     ]
    }
   ],
   "source": [
    "#Comparison Operators\n",
    "\n",
    "var1=.5\n",
    "var2=-.49\n",
    "var3=.49\n",
    "\n",
    "print(var2==var3) #Verificamos la desigualdad entre .49 y -.49\n",
    "print(var2!=var3) #Verificamos la desigualdad entre .49 y -.49\n",
    "print(var3<var1) #Verificamos que .49 es menor a .5"
   ]
  },
  {
   "cell_type": "code",
   "execution_count": 7,
   "metadata": {},
   "outputs": [
    {
     "name": "stdout",
     "output_type": "stream",
     "text": [
      "Millenial\n"
     ]
    }
   ],
   "source": [
    "#Conditionals\n",
    "\n",
    "def tipo_generacion(edad): #Esta función clasifica la generación dependiendo la edad\n",
    "    if edad<22:\n",
    "            generacion='Z'\n",
    "    elif edad<35:\n",
    "            generacion='Millenial'\n",
    "    else:\n",
    "            generacion='Boomer'\n",
    "    return generacion\n",
    "\n",
    "edad=28\n",
    "    \n",
    "print(tipo_generacion(edad))"
   ]
  },
  {
   "cell_type": "code",
   "execution_count": 8,
   "metadata": {},
   "outputs": [
    {
     "name": "stdout",
     "output_type": "stream",
     "text": [
      "[0, 1, 2, 3, 4, 5, 6, 7, 8, 9, 10, 11, 12, 13, 14, 15, 16, 17]\n",
      "[19, 20, 21, 22, 23, 24]\n"
     ]
    },
    {
     "name": "stdin",
     "output_type": "stream",
     "text": [
      "Dime tu edad:  4\n"
     ]
    },
    {
     "name": "stdout",
     "output_type": "stream",
     "text": [
      "Eres menor de edad\n",
      "Los números pares positivos hasta el 100 son:  [0, 2, 4, 6, 8, 10, 12, 14, 16, 18, 20, 22, 24, 26, 28, 30, 32, 34, 36, 38, 40, 42, 44, 46, 48, 50, 52, 54, 56, 58, 60, 62, 64, 66, 68, 70, 72, 74, 76, 78, 80, 82, 84, 86, 88, 90, 92, 94, 96, 98, 100]\n"
     ]
    }
   ],
   "source": [
    "#Loops\n",
    "\n",
    "edad=0\n",
    "menor=[]\n",
    "adultojoven=[]\n",
    "\n",
    "while edad < 18:\n",
    "    menor.append(edad) # Lista de menores de edad\n",
    "    edad = edad + 1\n",
    "    \n",
    "print(menor)\n",
    "\n",
    "\n",
    "for edad in range(19,25):\n",
    "    adultojoven.append(edad) # Lista de edades adultos jovenes\n",
    "\n",
    "print(adultojoven)\n",
    "\n",
    "year=eval(input('Dime tu edad: '))\n",
    "          \n",
    "for i in range(0,18):\n",
    "    if menor[i] == year:\n",
    "        print(\"Eres menor de edad\")\n",
    "        break\n",
    "else:\n",
    "    print(\"Eres mayor de edad\")\n",
    "\n",
    "pares=[]\n",
    "\n",
    "for i in range(0,101):\n",
    "    if i%2 !=0: continue \n",
    "    pares.append(i)\n",
    "print(\"Los números pares positivos hasta el 100 son: \",pares)"
   ]
  },
  {
   "cell_type": "code",
   "execution_count": 9,
   "metadata": {},
   "outputs": [
    {
     "name": "stdout",
     "output_type": "stream",
     "text": [
      "3\n",
      "2.0\n",
      "(3.141592+0j)\n",
      "(3.141592+2j)\n"
     ]
    }
   ],
   "source": [
    "#Type Convertion\n",
    "\n",
    "pi=3.141592\n",
    "r=2\n",
    "pi2='3.141592'\n",
    "\n",
    "print(int(pi))\n",
    "print(float(r))\n",
    "print(complex(pi))\n",
    "print(complex(pi,r))\n",
    "#print(int(pi2)) #no puedes convertir a entero pi2 porque es string\n"
   ]
  },
  {
   "cell_type": "code",
   "execution_count": 10,
   "metadata": {},
   "outputs": [
    {
     "name": "stdout",
     "output_type": "stream",
     "text": [
      "el valor absoluto de 10 y -10 es:  10\n",
      "El valor redondeado de pi es:  3.1416\n",
      "f 100 d -1.0\n"
     ]
    }
   ],
   "source": [
    "#Mathematical Functions\n",
    "\n",
    "from numpy import arange\n",
    "import math\n",
    "\n",
    "print(\"el valor absoluto de 10 y -10 es: \",abs(-10))\n",
    "\n",
    "enteros=[]\n",
    "\n",
    "for i in range(-100,101):\n",
    "    if i%2 !=0: continue \n",
    "    enteros.append(i)\n",
    "\n",
    "maxi=max(enteros)\n",
    "\n",
    "interval = arange(-1,1,0.1) #intervalo de -1 a 1\n",
    "mini=min(interval)\n",
    "\n",
    "roundpi=round(pi,4)\n",
    "\n",
    "#cmp(1,2) Python 3 does not have cmp function\n",
    "\n",
    "print(\"El valor redondeado de pi es: \",roundpi)\n",
    "print(\"f\",maxi,\"d\",mini)\n"
   ]
  },
  {
   "cell_type": "code",
   "execution_count": 11,
   "metadata": {},
   "outputs": [
    {
     "name": "stdin",
     "output_type": "stream",
     "text": [
      "Introduce un valor para p:  njhu\n"
     ]
    },
    {
     "name": "stdout",
     "output_type": "stream",
     "text": [
      "La variable p tiene el valor de  njhu y su tipo de dato es:  <class 'str'>\n"
     ]
    },
    {
     "name": "stdin",
     "output_type": "stream",
     "text": [
      "Introduce un valor para q:  ojoi\n"
     ]
    },
    {
     "name": "stdout",
     "output_type": "stream",
     "text": [
      "La variable q tiene el valor de  ojoi y su tipo de dato es:  <class 'str'>\n"
     ]
    },
    {
     "name": "stdin",
     "output_type": "stream",
     "text": [
      "escribe un número:  9\n"
     ]
    },
    {
     "name": "stdout",
     "output_type": "stream",
     "text": [
      "este es un renglón \n",
      " este es otro renglón\n",
      "njhu ojoi son los valores p y q respectivamente\n",
      " 1123.581\n",
      "n2 =         21\n",
      "n2 = 000021\n",
      "  1.1236e+03 2.1e+01\n"
     ]
    }
   ],
   "source": [
    "#Reading Input\n",
    "\n",
    "p=input('Introduce un valor para p: ')\n",
    "#p=int(input('Introduce un valor para p: ')) convierte a entero la entrada\n",
    "print(\"La variable p tiene el valor de \",p,\"y su tipo de dato es: \",type(p))\n",
    "q=input('Introduce un valor para q: ')\n",
    "print(\"La variable q tiene el valor de \",q,\"y su tipo de dato es: \",type(q))\n",
    "\n",
    "num=eval(input(\"escribe un número: \"))\n",
    "\n",
    "#Printing Output\n",
    "\n",
    "print('este es un renglón','\\n','este es otro renglón')\n",
    "print(p,q,end=' son los valores p y q respectivamente')\n",
    "\n",
    "\n",
    "n1 = 1123.5813\n",
    "n2 = 21\n",
    "\n",
    "print(\"\\n\",'{:2.3f}'.format(n1))\n",
    "print('n2 = {:10d}'.format(n2)) # Agrega 10 espacios\n",
    "print('n2 = {:06d}'.format(n2)) # Añade 4 ceros\n",
    "print('{:12.4e} {:2.1e}'.format(n1,n2)) #Notación Científica\n"
   ]
  },
  {
   "cell_type": "code",
   "execution_count": 12,
   "metadata": {},
   "outputs": [
    {
     "name": "stdout",
     "output_type": "stream",
     "text": [
      "Este es un archivo de texto\n",
      "es mi primer ejercicio de prueba\n",
      "para importarlo en Python\n",
      "\n",
      "\n",
      "Este es \n",
      "\n",
      "\n",
      "['Este es un archivo de texto\\n', 'es mi primer ejercicio de prueba\\n', 'para importarlo en Python']\n",
      "\n",
      "\n"
     ]
    },
    {
     "name": "stdin",
     "output_type": "stream",
     "text": [
      "Escribe un año entre 2010 y 2020:  2014\n"
     ]
    },
    {
     "name": "stdout",
     "output_type": "stream",
     "text": [
      "En  2014 Semana Santa inició el 13 de 04\n"
     ]
    }
   ],
   "source": [
    "#Opening and Closing a File\n",
    "\n",
    "#!pwd indica el directorio actual\n",
    "archivo = open('prueba.txt', 'r') #abre archivo prueba\n",
    "\n",
    "#’r’ Read from an existing file.\n",
    "#’w’ Write to a file. If filename does not exist, it is created.\n",
    "#’a’ Append to the end of the file.\n",
    "#’r+’ Read to and write from an existing file.\n",
    "#’w+’ Same as ’r+’, but filename is created if it does not exist.\n",
    "#’a+’ Same as ’w+’, but data is appended to the end of the file.\n",
    "\n",
    "textodeprueba=archivo.read() #lee todos los caracteres en el archivo que se abrió\n",
    "print(textodeprueba)\n",
    "\n",
    "print('\\n')\n",
    "\n",
    "archivo = open('prueba.txt', 'r') #abre archivo prueba\n",
    "lineadeprueba=archivo.readline(8) #lee los primeros 8 caracteres en el archivo que se abrió\n",
    "print(lineadeprueba)\n",
    "\n",
    "print('\\n')\n",
    "\n",
    "archivo = open('prueba.txt', 'r') #abre archivo prueba\n",
    "textodeprueba2=archivo.readlines() #Otra opción que lee todos los caracteres en el archivo que se abrió y añade los renglones del archivo\n",
    "print(textodeprueba2)\n",
    "\n",
    "print('\\n')\n",
    "\n",
    "\n",
    "archivo.close() #cierra archivo prueba\n",
    "\n",
    "archivo2=open('CalendarioSemanaSanta.txt', 'r') #abre archivo semana santa\n",
    "\n",
    "DiaIni=[]\n",
    "MesIni=[]\n",
    "AnioIni=[]\n",
    "\n",
    "texto = archivo2.readlines()\n",
    "\n",
    "for line in texto:\n",
    "    DiaIni.append(line.split()[0]) #Guarda los días de inicio de semana santa desde 2010 a 2020\n",
    "\n",
    "for line in texto:\n",
    "     MesIni.append(line.split()[1]) #Guarda los días de inicio de semana santa desde 2010 a 2020\n",
    "\n",
    "for line in  texto:\n",
    "     AnioIni.append(line.split()[2]) #Guarda los días de inicio de semana santa desde 2010 a 2020\n",
    "\n",
    "j=eval(input(\"Escribe un año entre 2010 y 2020: \"))-2010\n",
    "\n",
    "print(\"En \",AnioIni[j],\"Semana Santa inició el\",DiaIni[j],\"de\",MesIni[j])\n",
    "\n",
    "archivo2.close() #cierra archivo prueba\n"
   ]
  },
  {
   "cell_type": "code",
   "execution_count": 13,
   "metadata": {},
   "outputs": [],
   "source": [
    "#Writing Data to a File\n",
    "\n",
    "file = open('Raices','w') #Crea archivo para guardar Raíces Cuadradas\n",
    "\n",
    "for k in range(1,101):\n",
    "    file.write('{:3d} {:.3f}'.format(k,k**.5)) #\n",
    "    file.write('\\n')\n",
    "file.close()\n"
   ]
  },
  {
   "cell_type": "code",
   "execution_count": 14,
   "metadata": {},
   "outputs": [
    {
     "name": "stdin",
     "output_type": "stream",
     "text": [
      "Teclea un número entero 9\n",
      "Teclea otro número entero 2\n"
     ]
    },
    {
     "name": "stdout",
     "output_type": "stream",
     "text": [
      "Su multiplicación es  18\n"
     ]
    }
   ],
   "source": [
    "# Error Control\n",
    "\n",
    "#num1=int(input(\"Teclea un número\"))\n",
    "#num2=int(input(\"Teclea otro número\"))\n",
    "\n",
    "try:\n",
    "    num1=int(input(\"Teclea un número entero\"))\n",
    "    num2=int(input(\"Teclea otro número entero\"))\n",
    "    print(\"Su multiplicación es \",num1*num2)\n",
    "except ValueError:\n",
    "    print('Error: el valor que ingreses tiene que ser un número entero')\n"
   ]
  },
  {
   "cell_type": "code",
   "execution_count": 15,
   "metadata": {},
   "outputs": [
    {
     "name": "stdout",
     "output_type": "stream",
     "text": [
      "{'llave1': 1, 'llave2': 'soy un string', 'llave3': 3.1416}\n",
      "\n",
      "\n",
      "valor guardado en la llave1: 1\n",
      "valor guardado en la llave2: soy un string\n",
      "valor guardado en la llave3: 3.1416\n",
      "\n",
      "\n",
      "las llaves del diccionario son: dict_keys(['llave1', 'llave2', 'llave3'])\n",
      "los valores del diccionario son: dict_values([1, 'soy un string', 3.1416])\n",
      "\n",
      "\n",
      "añadimos una nueva pareja llave-valor al diccionario: \n",
      " {'llave1': 1, 'llave2': 'soy un string', 'llave3': 3.1416, 'nuevallave': -1}\n",
      "\n",
      " se borró la llave 2 con valor  soy un string \n",
      "\n",
      "el diccionario quedó: {'llave1': 1, 'llave3': 3.1416, 'nuevallave': -1}\n"
     ]
    }
   ],
   "source": [
    "#Diccionarios\n",
    "\n",
    "#Creamos un diccionario con: {} o dict()\n",
    "\n",
    "dic = {'llave1': 1,'llave2':'soy un string','llave3':3.1416}\n",
    "print(dic)\n",
    "print('\\n')\n",
    "\n",
    "\n",
    "#podemos acceder a los valores\n",
    "#guardados en cada llave como sigue:\n",
    "print('valor guardado en la llave1:', dic['llave1'])\n",
    "print('valor guardado en la llave2:',dic['llave2'])\n",
    "print('valor guardado en la llave3:',dic['llave3'])\n",
    "\n",
    "print('\\n')\n",
    "\n",
    "#imprimimos las llaves\n",
    "print('las llaves del diccionario son:',dic.keys())\n",
    "\n",
    "#imprimimos los valores:\n",
    "print('los valores del diccionario son:', dic.values())\n",
    "\n",
    "print('\\n')\n",
    "\n",
    "#añadimos entradas a un diccionario con:\n",
    "dic['nuevallave'] = -1\n",
    "print('añadimos una nueva pareja llave-valor al diccionario: \\n',dic)\n",
    "\n",
    "#podemos remover la llave-valor del diccionario con pop\n",
    "llaveborrada=dic.pop('llave2')\n",
    "print(\"\\n se borró la llave 2 con valor \",llaveborrada,'\\n')\n",
    "\n",
    "print('el diccionario quedó:', dic)\n",
    "\n"
   ]
  },
  {
   "cell_type": "code",
   "execution_count": 16,
   "metadata": {},
   "outputs": [
    {
     "name": "stdout",
     "output_type": "stream",
     "text": [
      "este diccionario contiene:  {'Q1': 'Enero-Marzo', 'Q2': 'Abril-Junio', 'Q3': 'Julio-Septiembre', 'Q4': 'Noviembre-Diciembre'}\n",
      "valor guardado en Q2: Abril-Junio\n",
      "valor guardado en Q3: Julio-Septiembre\n",
      "\n",
      "\n",
      "llaves del diccionario: dict_keys(['Q1', 'Q2', 'Q3', 'Q4'])\n",
      "valores del diccionario: dict_values(['Enero-Marzo', 'Abril-Junio', 'Julio-Septiembre', 'Noviembre-Diciembre']) \n",
      "\n",
      "eliminamos temporalmente el valor  Noviembre-Diciembre\n",
      "en el diccionario2: {'Q1': 'Enero-Marzo', 'Q2': 'Abril-Junio', 'Q3': 'Julio-Septiembre'} \n",
      "\n",
      "añadimos nuevamente la pareja llave-valor al diccionario: \n",
      " {'Q1': 'Enero-Marzo', 'Q2': 'Abril-Junio', 'Q3': 'Julio-Septiembre', 'Q4': 'Octubre-Diciembre'}\n",
      "[0, 1, 2, 3, 4, 5, 6, 7, 8, 9]\n",
      "{1: 1, 10: 1000, 100: 1000000}\n"
     ]
    }
   ],
   "source": [
    "dic2 = dict([('Q1', 'Enero-Marzo'), ('Q2', 'Abril-Junio'),('Q3', 'Julio-Septiembre'),('Q4', 'Noviembre-Diciembre')])\n",
    "print(\"este diccionario contiene: \",dic2)\n",
    "\n",
    "print('valor guardado en Q2:', dic2['Q2'])\n",
    "print('valor guardado en Q3:', dic2['Q3'])\n",
    "print('\\n')\n",
    "\n",
    "print('llaves del diccionario:',dic2.keys())\n",
    "print('valores del diccionario:', dic2.values(),'\\n')\n",
    "\n",
    "eliminado=dic2.pop('Q4')\n",
    "print(\"eliminamos temporalmente el valor \",eliminado)\n",
    "print('en el diccionario2:', dic2,'\\n')\n",
    "\n",
    "dic2['Q4'] = 'Octubre-Diciembre'\n",
    "print('añadimos nuevamente la pareja llave-valor al diccionario: \\n',dic2)\n",
    "\n",
    "#List & dictionaries comprehension\n",
    "#Son muy utilizadas en el lenguaje las listas y diccionarios creados como sigue:\n",
    "\n",
    "l=[z for z in range(0,10)] #Crea lista de Dígitos\n",
    "print(l)\n",
    "\n",
    "d={z: z**3 for z in (1, 10, 100)} #Diccionario de cubos\n",
    "print(d)"
   ]
  },
  {
   "cell_type": "code",
   "execution_count": 17,
   "metadata": {},
   "outputs": [
    {
     "name": "stdout",
     "output_type": "stream",
     "text": [
      " 1.154700543510856\n",
      "Aproximación de la segunda derivada con x=0.5 y función de prueba asin(x) 0.7698003567924161\n"
     ]
    }
   ],
   "source": [
    "# Practica 1.2\n",
    "\n",
    "#Crear un módulo con nombre dif_centrada.py en el que se tengan dos funciones de Python que aproximen la primera y segunda derivada de una función en un punto x. Ambas funciones reciben x, fun y h donde: x es el punto donde se realiza la aproximación, fun es la función a calcularse su primera y segunda derivadas y h es el parámetro de espaciado entre x y x+h. Función de prueba: math.asin y x=0.5.\n",
    "\n",
    "#from dif_centrada import *\n",
    "#from math import atan\n",
    "\n",
    "#x=0.5\n",
    "#df=aprox_derivada(atan,x)\n",
    "#ddf=aprox_2a_derivada(atan,x)\n",
    "#print(df)\n",
    "#print(ddf)\n",
    "\n",
    "from dif_centrada import aprox_derivada, aprox_2a_derivada\n",
    "from math import asin\n",
    "\n",
    "x=0.5\n",
    "df=aprox_derivada(asin,x)\n",
    "ddf=aprox_2a_derivada(asin,x)\n",
    "print(\"\",df)\n",
    "print(\"Aproximación de la segunda derivada con x=0.5 y función de prueba asin(x)\",ddf)\n"
   ]
  },
  {
   "cell_type": "code",
   "execution_count": 18,
   "metadata": {},
   "outputs": [
    {
     "name": "stdout",
     "output_type": "stream",
     "text": [
      "Se declaró el mismo arreglo como float de dos formas distintas \n",
      " [[ 1. -2.]\n",
      " [ 3. -4.]] \n",
      " [[ 1. -2.]\n",
      " [ 3. -4.]]\n",
      "este es un arreglo de ceros \n",
      " [[0 0 0]\n",
      " [0 0 0]]\n",
      "este es otro arreglo de ceros \n",
      " [0 0 0]\n",
      "este es un arreglo de unos \n",
      " [[1 1]\n",
      " [1 1]\n",
      " [1 1]\n",
      " [1 1]]\n",
      "este es otro arreglo de unos \n",
      " [[1 1 1]\n",
      " [1 1 1]\n",
      " [1 1 1]]\n",
      "\n",
      " [0.   0.25 0.5  0.75 1.  ]\n",
      "\n",
      " [4. 3. 2. 1.]\n"
     ]
    }
   ],
   "source": [
    "#Práctica 1.3 Numpy y matplotlib\n",
    "\n",
    "#Módulo numpy\n",
    "\n",
    "from numpy import array,zeros, ones, arange, sqrt\n",
    "\n",
    "array1 = array([[1.0, -2.0],[3.0, -4.0]])\n",
    "array2 = array([[1, -2],[3, -4]],float)\n",
    "\n",
    "print(\"Se declaró el mismo arreglo como float de dos formas distintas \\n\",array1,'\\n',array2)\n",
    "\n",
    "array0s=zeros((2,3),type)\n",
    "print(\"este es un arreglo de ceros \\n\",array0s)\n",
    "\n",
    "array0sv2=zeros((3),int)\n",
    "print(\"este es otro arreglo de ceros \\n\",array0sv2)\n",
    "\n",
    "array1s=ones((4,2),type)\n",
    "print(\"este es un arreglo de unos \\n\",array1s)\n",
    "\n",
    "array1sv2=ones((3,3),int)\n",
    "print(\"este es otro arreglo de unos \\n\",array1sv2)\n",
    "\n",
    "arraydeci1=arange(0,1.01,.25) #crea arreglo con decimales\n",
    "print('\\n',arraydeci1) \n",
    "\n",
    "arraydeci2=arange(4.0,0.0,-1.0) #crea arreglo con decimales y cuenta regresiva\n",
    "print('\\n',arraydeci2)"
   ]
  },
  {
   "cell_type": "code",
   "execution_count": 19,
   "metadata": {},
   "outputs": [
    {
     "name": "stdout",
     "output_type": "stream",
     "text": [
      "[[  1   1   1]\n",
      " [200 600 300]\n",
      " [  1   1   1]] \n",
      "\n",
      "[[  1   1  50]\n",
      " [200 600 300]\n",
      " [  1   1   1]] \n",
      "\n",
      "[[  1   1  50]\n",
      " [200 600 300]\n",
      " [  1  10 100]] \n",
      "\n",
      "\n",
      " [[ -5.  -8.]\n",
      " [ -3. -10.]]\n",
      "\n",
      " [  0.  25.  50.  75. 100.]\n",
      "\n",
      " [2.         1.73205081 1.41421356 1.        ]\n"
     ]
    }
   ],
   "source": [
    "#Accesing and Changing Array Elements\n",
    "\n",
    "array1sv2[1]=[200,600,300] #Modifica una fila del arreglo de unos anterior\n",
    "print(array1sv2,'\\n')\n",
    "\n",
    "array1sv2[0,2]=50 #Cambia un elemento del arreglo\n",
    "print(array1sv2,'\\n')\n",
    "\n",
    "array1sv2[2,1:3]=[10,100] #Cambia parte de una fila\n",
    "print(array1sv2,'\\n')\n",
    "\n",
    "print('\\n',array2-6) #Resta un escalar a cada entrada del arreglo\n",
    "print('\\n',arraydeci1*100) #Multiplica un arreglo por un escalar\n",
    "print('\\n',sqrt(arraydeci2)) #Aplica raíz cuadrada un arreglo\n"
   ]
  },
  {
   "cell_type": "code",
   "execution_count": 20,
   "metadata": {},
   "outputs": [
    {
     "name": "stdout",
     "output_type": "stream",
     "text": [
      "Este es el arreglo A: \n",
      " [[ 1.     -4.     -5.    ]\n",
      " [-2.      2.5     2.    ]\n",
      " [ 4.     -3.      3.1416]]\n",
      "Esta es su diagonal principal:  [1.     2.5    3.1416]\n",
      "Esta es su primera subdiagonal:  [-4.  2.]\n",
      "Esta es su segunda subdiagonal:  [-5.]\n",
      "La traza de A es:  6.6416\n",
      "El índice donde se encuentra el elemento más grande en A es:  6\n",
      "El índice donde se encuentra el elemento más grande en A es:  2\n",
      "Esta es una matriz identidad de 10x10: \n",
      " [[1. 0. 0. 0. 0. 0. 0. 0. 0. 0.]\n",
      " [0. 1. 0. 0. 0. 0. 0. 0. 0. 0.]\n",
      " [0. 0. 1. 0. 0. 0. 0. 0. 0. 0.]\n",
      " [0. 0. 0. 1. 0. 0. 0. 0. 0. 0.]\n",
      " [0. 0. 0. 0. 1. 0. 0. 0. 0. 0.]\n",
      " [0. 0. 0. 0. 0. 1. 0. 0. 0. 0.]\n",
      " [0. 0. 0. 0. 0. 0. 1. 0. 0. 0.]\n",
      " [0. 0. 0. 0. 0. 0. 0. 1. 0. 0.]\n",
      " [0. 0. 0. 0. 0. 0. 0. 0. 1. 0.]\n",
      " [0. 0. 0. 0. 0. 0. 0. 0. 0. 1.]]\n",
      "producto punto de (x,y) =\n",
      " 31\n",
      "producto punto de (C,x) =\n",
      " [ 3 -2]\n",
      "producto punto de (C,D) =\n",
      " [[-3  6]\n",
      " [ 2 -3]]\n",
      "producto interno de (x,y) =\n",
      " 31\n",
      "producto interno de (C,x) =\n",
      " [ 3 -2]\n",
      "producto interno de (C,D) =\n",
      " [[3 6]\n",
      " [2 3]]\n",
      "producto externo de (x,y) =\n",
      " [[10 14]\n",
      " [15 21]]\n",
      "producto externo de (C,x) =\n",
      " [[ 0  0]\n",
      " [ 2  3]\n",
      " [-2 -3]\n",
      " [ 0  0]]\n",
      "producto externo de (C,D) =\n",
      " [[ 0  0  0  0]\n",
      " [-2  3 -3  6]\n",
      " [ 2 -3  3 -6]\n",
      " [ 0  0  0  0]]\n"
     ]
    }
   ],
   "source": [
    "#Array Functions\n",
    "\n",
    "from numpy import *\n",
    "\n",
    "A = array([[1,-4,-5],[-2,2.5,2],[4,-3,3.1416]],float)\n",
    "\n",
    "print(\"Este es el arreglo A: \\n\",A)\n",
    "\n",
    "print(\"Esta es su diagonal principal: \",diagonal(A)) # Principal diagonal\n",
    "print(\"Esta es su primera subdiagonal: \",diagonal(A,1)) # First subdiagonal\n",
    "print(\"Esta es su segunda subdiagonal: \",diagonal(A,2)) # Second subdiagonal\n",
    "\n",
    "print(\"La traza de A es: \",trace(A)) # Sum of diagonal elements\n",
    "print(\"El índice donde se encuentra el elemento más grande en A es: \",argmax(A))\n",
    "print(\"El índice donde se encuentra el elemento más grande en A es: \",argmin(A))\n",
    "print(\"Esta es una matriz identidad de 10x10: \\n\",identity(10)) # Identity matrix\n",
    "\n",
    "x = array([2,3])\n",
    "y = array([5,7])\n",
    "C = array([[0,1],[-1,0]])\n",
    "D = array([[-2,3],[-3,6]])\n",
    "\n",
    "# Producto punto\n",
    "print(\"producto punto de (x,y) =\\n\",dot(x,y)) # {x}.{y} \n",
    "print(\"producto punto de (C,x) =\\n\",dot(C,x)) # [C]{x} \n",
    "print(\"producto punto de (C,D) =\\n\",dot(C,D)) # [C][D] \n",
    "\n",
    "# Producto Interno\n",
    "print(\"producto interno de (x,y) =\\n\",inner(x,y)) # {x}.{y}\n",
    "print(\"producto interno de (C,x) =\\n\",inner(C,x)) # [C]{x}\n",
    "print(\"producto interno de (C,D) =\\n\",inner(C,D)) # [C][D_transpose]\n",
    "\n",
    "# Producto Externo\n",
    "print(\"producto externo de (x,y) =\\n\",outer(x,y))\n",
    "print(\"producto externo de (C,x) =\\n\",outer(C,x))\n",
    "print(\"producto externo de (C,D) =\\n\",outer(C,D))\n"
   ]
  },
  {
   "cell_type": "code",
   "execution_count": 21,
   "metadata": {},
   "outputs": [
    {
     "name": "stdout",
     "output_type": "stream",
     "text": [
      "Esta es la matriz A: \n",
      " [[ 2.  -1.   0.5]\n",
      " [-1.   2.  -1. ]\n",
      " [ 0.5 -1.   1.5]] \n",
      " Y esta es su matriz inversa: \n",
      " [[0.66666667 0.33333333 0.        ]\n",
      " [0.33333333 0.91666667 0.5       ]\n",
      " [0.         0.5        1.        ]]\n",
      "Con solve podemos obtener soluciones a ecuaciones simultáneamente  [2. 5. 4.]\n",
      "El método copy del módulo numpy nos permite copiar un arreglo de A: \n",
      " [[ 2.  -1.   0.5]\n",
      " [-1.   2.  -1. ]\n",
      " [ 0.5 -1.   1.5]]\n"
     ]
    }
   ],
   "source": [
    "#Linear Algebra Module\n",
    "\n",
    "from numpy.linalg import inv, solve\n",
    "\n",
    "A = array([[ 2.0, -1.0, 0.5], \\\n",
    "[-1.0, 2.0, -1.0], \\\n",
    "[ 0.5, -1.0, 1.5]])\n",
    "\n",
    "b = array([1.0, 4.0, 2.0])\n",
    "\n",
    "print(\"Esta es la matriz A: \\n\",A,\"\\n Y esta es su matriz inversa: \\n\",inv(A)) # Matrix inverse\n",
    "\n",
    "print(\"Con solve podemos obtener soluciones a ecuaciones simultáneamente \",solve(A,b)) # Solve [A]{x} = {b}\n",
    "\n",
    "#Copying Arrays\n",
    "\n",
    "B=A.copy()\n",
    "\n",
    "print(\"El método copy del módulo numpy nos permite copiar un arreglo de A: \\n\",B) # Matrix inverse\n"
   ]
  },
  {
   "cell_type": "code",
   "execution_count": 22,
   "metadata": {},
   "outputs": [
    {
     "name": "stdout",
     "output_type": "stream",
     "text": [
      "-29.40718342290494\n",
      "-29.40718342290494\n"
     ]
    }
   ],
   "source": [
    "#Vectorizing Algorithms\n",
    "\n",
    "#Vectorization es el nombre con el que se le llama cuando hacermos uso de las propiedades de las funciones matemáticas en los módulos para evitar el uso de loops en el código\n",
    "\n",
    "#Este es un ejemplo usando loop\n",
    "from math import sqrt,cos,pi\n",
    "x = 0.0; sum1 = 0.0\n",
    "for i in range(101):\n",
    "    sum1= sum1 + sqrt(x)*cos(x)\n",
    "    x = x + 0.01*pi\n",
    "print(sum1)\n",
    "\n",
    "#Esta es la versión vectorizada del algoritmo:\n",
    "from numpy import sqrt,cos,arange\n",
    "from math import pi\n",
    "x = arange(0.0, 1.001*pi, 0.01*pi)\n",
    "print(sum(sqrt(x)*cos(x)))\n"
   ]
  },
  {
   "cell_type": "code",
   "execution_count": 23,
   "metadata": {},
   "outputs": [
    {
     "data": {
      "text/plain": [
       "<Figure size 640x480 with 1 Axes>"
      ]
     },
     "metadata": {},
     "output_type": "display_data"
    },
    {
     "name": "stdin",
     "output_type": "stream",
     "text": [
      "\n",
      "Press return to exit \n"
     ]
    },
    {
     "data": {
      "text/plain": [
       "''"
      ]
     },
     "execution_count": 23,
     "metadata": {},
     "output_type": "execute_result"
    }
   ],
   "source": [
    "#Plotting with matplotlib.pyplot\n",
    "\n",
    "import matplotlib.pyplot as plt\n",
    "from numpy import arange,sin,cos\n",
    "\n",
    "x = arange(0.0,6.1,0.1) #Un ciclo completo\n",
    "plt.plot(x,sin(x),'o-',x,sin(x)**2,'-.',x,cos(x),'*-',x,cos(x)**2,'--') # Plot with specified line and marker style\n",
    "\n",
    "#The line and marker styles are specified by the string characters shown in the following list (only some of the available characters are shown).\n",
    "#’-’ Solid line\n",
    "#’--’ Dashed line\n",
    "#’-.’ Dash-dot line\n",
    "#’:’ Dotted line\n",
    "#’o’ Circle marker\n",
    "#’ˆ’ Trianglemarker\n",
    "#’s’ Squaremarker\n",
    "#’h’ Hexagon marker\n",
    "#’x’ xmarker\n",
    "\n",
    "plt.xlabel('valores de x') # Add label to x-axis\n",
    "plt.legend(('seno','seno cuadrado','coseno','coseno cuadrado'),loc = 0) # Add legend in loc. 0\n",
    "#Some of the location (loc) codes for placement of the legend are\n",
    "\n",
    "#0 ”Best” location\n",
    "#1 Upper right\n",
    "#2 Upper left\n",
    "#3 Lower left\n",
    "#4 Lower right\n",
    "\n",
    "plt.grid(True) # Add coordinate grid\n",
    "plt.savefig('GraficaEjemplo1.png',format='png') # Save plot in png\n",
    "plt.show() # Show plot on screen\n",
    "input(\"\\nPress return to exit\")\n"
   ]
  },
  {
   "cell_type": "code",
   "execution_count": 24,
   "metadata": {},
   "outputs": [
    {
     "data": {
      "image/png": "[encoded data removed]",
      "text/plain": [
       "<Figure size 432x288 with 2 Axes>"
      ]
     },
     "metadata": {
      "needs_background": "light"
     },
     "output_type": "display_data"
    },
    {
     "name": "stdin",
     "output_type": "stream",
     "text": [
      "\n",
      "Press return to exit \n"
     ]
    },
    {
     "data": {
      "text/plain": [
       "''"
      ]
     },
     "execution_count": 24,
     "metadata": {},
     "output_type": "execute_result"
    }
   ],
   "source": [
    "#Vamos a graficar 2 plots en una misma figura\n",
    "import matplotlib.pyplot as plt\n",
    "from numpy import arange,sin,cos\n",
    "x = arange(0.0,6.1,0.1)\n",
    "\n",
    "plt.subplot(2,1,1)\n",
    "#The command subplot(rows,cols,plot number)establishes a subplot window within the current figure. The parameters row and col divide the figure into row × col grid of subplots (in this case, two rows and one column)\n",
    "plt.plot(x,sin(x),'o-',x,sin(x)**2,'-.')\n",
    "plt.xlabel('x');plt.ylabel('Gráfica Senos')\n",
    "plt.legend(('seno','seno cuadrado'),loc = 0)\n",
    "plt.grid(True)\n",
    "plt.subplot(2,1,2)\n",
    "plt.plot(x,cos(x),'*-',x,cos(x)**2,'--')\n",
    "plt.xlabel('x');plt.ylabel('Gráfica Cosenos')\n",
    "plt.legend(('coseno','coseno cuadrado'),loc = 0)\n",
    "plt.grid(True)\n",
    "plt.show()\n",
    "input(\"\\nPress return to exit\")"
   ]
  },
  {
   "cell_type": "code",
   "execution_count": 25,
   "metadata": {},
   "outputs": [
    {
     "name": "stdout",
     "output_type": "stream",
     "text": [
      "a*b = 500.0\n"
     ]
    }
   ],
   "source": [
    "#Scoping of Variables\n",
    "\n",
    "def multiply():\n",
    "    c = a*b\n",
    "    print('a*b =',c)\n",
    "a = 100.0\n",
    "b = 5.0\n",
    "multiply()\n",
    "\n",
    "#print(\"a*b=\",c) NameError: name 'c' is not defined"
   ]
  },
  {
   "cell_type": "code",
   "execution_count": 26,
   "metadata": {},
   "outputs": [
    {
     "name": "stdout",
     "output_type": "stream",
     "text": [
      " err(string).\n",
      "Prints 'string' and terminates program.\n",
      "\n"
     ]
    }
   ],
   "source": [
    "import error #importa el módulo error\n",
    "print(error.__doc__) #imprime la documentación del error"
   ]
  },
  {
   "cell_type": "code",
   "execution_count": 27,
   "metadata": {},
   "outputs": [
    {
     "name": "stdout",
     "output_type": "stream",
     "text": [
      "\n",
      "NumPy\n",
      "=====\n",
      "\n",
      "Provides\n",
      "  1. An array object of arbitrary homogeneous items\n",
      "  2. Fast mathematical operations over arrays\n",
      "  3. Linear Algebra, Fourier Transforms, Random Number Generation\n",
      "\n",
      "How to use the documentation\n",
      "----------------------------\n",
      "Documentation is available in two forms: docstrings provided\n",
      "with the code, and a loose standing reference guide, available from\n",
      "`the NumPy homepage <https://www.scipy.org>`_.\n",
      "\n",
      "We recommend exploring the docstrings using\n",
      "`IPython <https://ipython.org>`_, an advanced Python shell with\n",
      "TAB-completion and introspection capabilities.  See below for further\n",
      "instructions.\n",
      "\n",
      "The docstring examples assume that `numpy` has been imported as `np`::\n",
      "\n",
      "  >>> import numpy as np\n",
      "\n",
      "Code snippets are indicated by three greater-than signs::\n",
      "\n",
      "  >>> x = 42\n",
      "  >>> x = x + 1\n",
      "\n",
      "Use the built-in ``help`` function to view a function's docstring::\n",
      "\n",
      "  >>> help(np.sort)\n",
      "  ... # doctest: +SKIP\n",
      "\n",
      "For some objects, ``np.info(obj)`` may provide additional help.  This is\n",
      "particularly true if you see the line \"Help on ufunc object:\" at the top\n",
      "of the help() page.  Ufuncs are implemented in C, not Python, for speed.\n",
      "The native Python help() does not know how to view their help, but our\n",
      "np.info() function does.\n",
      "\n",
      "To search for documents containing a keyword, do::\n",
      "\n",
      "  >>> np.lookfor('keyword')\n",
      "  ... # doctest: +SKIP\n",
      "\n",
      "General-purpose documents like a glossary and help on the basic concepts\n",
      "of numpy are available under the ``doc`` sub-module::\n",
      "\n",
      "  >>> from numpy import doc\n",
      "  >>> help(doc)\n",
      "  ... # doctest: +SKIP\n",
      "\n",
      "Available subpackages\n",
      "---------------------\n",
      "doc\n",
      "    Topical documentation on broadcasting, indexing, etc.\n",
      "lib\n",
      "    Basic functions used by several sub-packages.\n",
      "random\n",
      "    Core Random Tools\n",
      "linalg\n",
      "    Core Linear Algebra Tools\n",
      "fft\n",
      "    Core FFT routines\n",
      "polynomial\n",
      "    Polynomial tools\n",
      "testing\n",
      "    NumPy testing tools\n",
      "f2py\n",
      "    Fortran to Python Interface Generator.\n",
      "distutils\n",
      "    Enhancements to distutils with support for\n",
      "    Fortran compilers support and more.\n",
      "\n",
      "Utilities\n",
      "---------\n",
      "test\n",
      "    Run numpy unittests\n",
      "show_config\n",
      "    Show numpy build configuration\n",
      "dual\n",
      "    Overwrite certain functions with high-performance Scipy tools\n",
      "matlib\n",
      "    Make everything matrices.\n",
      "__version__\n",
      "    NumPy version string\n",
      "\n",
      "Viewing documentation using IPython\n",
      "-----------------------------------\n",
      "Start IPython with the NumPy profile (``ipython -p numpy``), which will\n",
      "import `numpy` under the alias `np`.  Then, use the ``cpaste`` command to\n",
      "paste examples into the shell.  To see which functions are available in\n",
      "`numpy`, type ``np.<TAB>`` (where ``<TAB>`` refers to the TAB key), or use\n",
      "``np.*cos*?<ENTER>`` (where ``<ENTER>`` refers to the ENTER key) to narrow\n",
      "down the list.  To view the docstring for a function, use\n",
      "``np.cos?<ENTER>`` (to view the docstring) and ``np.cos??<ENTER>`` (to view\n",
      "the source code).\n",
      "\n",
      "Copies vs. in-place operation\n",
      "-----------------------------\n",
      "Most of the functions in `numpy` return a copy of the array argument\n",
      "(e.g., `np.sort`).  In-place versions of these functions are often\n",
      "available as array methods, i.e. ``x = np.array([1,2,3]); x.sort()``.\n",
      "Exceptions to this rule are documented.\n",
      "\n",
      "\n"
     ]
    }
   ],
   "source": [
    "import numpy #importa el módulo numpy\n",
    "print(numpy.__doc__) #imprime la documentación de numpy"
   ]
  },
  {
   "cell_type": "code",
   "execution_count": null,
   "metadata": {},
   "outputs": [],
   "source": []
  }
 ],
 "metadata": {
  "kernelspec": {
   "display_name": "Python 3",
   "language": "python",
   "name": "python3"
  },
  "language_info": {
   "codemirror_mode": {
    "name": "ipython",
    "version": 3
   },
   "file_extension": ".py",
   "mimetype": "text/x-python",
   "name": "python",
   "nbconvert_exporter": "python",
   "pygments_lexer": "ipython3",
   "version": "3.6.8"
  }
 },
 "nbformat": 4,
 "nbformat_minor": 2
}
